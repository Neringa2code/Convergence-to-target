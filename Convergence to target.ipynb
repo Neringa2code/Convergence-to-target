{
 "cells": [
  {
   "cell_type": "code",
   "execution_count": 1,
   "metadata": {},
   "outputs": [],
   "source": [
    "import random\n",
    "\n",
    "\n",
    "class Password:\n",
    "    \n",
    "  \n",
    "    def __init__(self, target, Set = \" abcdefghijklmnopqrstuvwxyzABCDEFGHIJKLMNOPQRSTUVWXYZ!.,:;/?<>~#@'}{][)(`¬*&^%$£1234567890-+\"):\n",
    "        self.Set = Set\n",
    "        self.target = target\n",
    "        self.target_list = list(self.target)\n",
    "        self.starting_list = random.sample(self.Set, len(self.target_list))\n",
    "        self.count = 0\n",
    "        self.index_list = []            \n",
    "            \n",
    "        def simboliai_target(self):\n",
    "            count = 0\n",
    "            for x in self.target_list:\n",
    "                if x in list(self.Set):\n",
    "                    count += 1\n",
    "            if count == len(self.target_list):\n",
    "                return True                                  \n",
    "        \n",
    "        assert simboliai_target(self) == True, \"Target sudarytas is simboliu, nepriklausanciu Set\"             \n",
    "        assert len(self.target_list) != 0, \"Nenurodytas target\"\n",
    "        \n",
    "       \n",
    "    def password_convergence(self):\n",
    "        while self.target_list != self.starting_list:\n",
    "            sample_list = random.sample(self.Set, 2)\n",
    "            for letter in sample_list: \n",
    "                if letter in self.target_list:\n",
    "                    index = self.target.index(letter)\n",
    "                    times = self.target_list.count(letter) #jei ne viena karta pasikartoja, toliau neberanda  \n",
    "                    if index not in self.index_list:                        \n",
    "                        self.starting_list[index] = letter\n",
    "                        self.count += 1\n",
    "                        print(''.join(self.starting_list))\n",
    "                        self.index_list.append(index)\n",
    "                        while times > 1:\n",
    "                            target_list_2 = self.target_list[index + 1:]\n",
    "                            if letter in target_list_2:\n",
    "                                ind = index + 1 + target_list_2.index(letter)\n",
    "                                self.starting_list[ind] = letter\n",
    "                                self.count += 1\n",
    "                                print(''.join(self.starting_list))\n",
    "                                self.index_list.append(ind)\n",
    "                                times -= 1\n",
    "                                index = ind"
   ]
  },
  {
   "cell_type": "code",
   "execution_count": 4,
   "metadata": {},
   "outputs": [],
   "source": [
    "mano_slaptazodis = Password(\"My super protected, complicated password!\")"
   ]
  },
  {
   "cell_type": "code",
   "execution_count": 5,
   "metadata": {},
   "outputs": [
    {
     "name": "stdout",
     "output_type": "stream",
     "text": [
      "9<+uuq~HKfv:T`i)ZLl(68FE;a£#&ObzxRgAV }.w\n",
      "9<+uuq~HKfv:T`i)ZLl(68mE;a£#&ObzxRgAV }.w\n",
      "9<+uuq~HKfv:T`i)ZL,(68mE;a£#&ObzxRgAV }.w\n",
      "9<+uuq~HKfv:T`c)ZL,(68mE;a£#&ObzxRgAV }.w\n",
      "9<+uuq~HKfv:T`c)ZL,(c8mE;a£#&ObzxRgAV }.w\n",
      "9<+uuq~HKfv:T`c)ZL,(c8mE;ac#&ObzxRgAV }.w\n",
      "9<+uuq~rKfv:T`c)ZL,(c8mE;ac#&ObzxRgAV }.w\n",
      "9<+uuq~rKfr:T`c)ZL,(c8mE;ac#&ObzxRgAV }.w\n",
      "9<+uuq~rKfr:T`c)ZL,(c8mE;ac#&ObzxRgAV r.w\n",
      "9<+uuq~rKfr:T`c)Zd,(c8mE;ac#&ObzxRgAV r.w\n",
      "9<+uuq~rKfr:T`c)Zd,(c8mE;ac#&OdzxRgAV r.w\n",
      "9<+uuq~rKfr:T`c)Zd,(c8mE;ac#&OdzxRgAV rdw\n",
      "9<+suq~rKfr:T`c)Zd,(c8mE;ac#&OdzxRgAV rdw\n",
      "9<+suq~rKfr:T`c)Zd,(c8mE;ac#&OdzxRsAV rdw\n",
      "9<+suq~rKfr:T`c)Zd,(c8mE;ac#&OdzxRssV rdw\n",
      "9<+suqerKfr:T`c)Zd,(c8mE;ac#&OdzxRssV rdw\n",
      "9<+suqerKfr:Tec)Zd,(c8mE;ac#&OdzxRssV rdw\n",
      "9<+suqerKfr:Tec)ed,(c8mE;ac#&OdzxRssV rdw\n",
      "9<+suqerKfr:Tec)ed,(c8mE;ac#&edzxRssV rdw\n",
      "9<+suqerKfr:Tec)ed,(c8mE;ac#&edzxRssw rdw\n",
      "9<+suqerKfr:Tec)ed,(c8mE;aca&edzxRssw rdw\n",
      "9<+suqerKfr:Tec)ed,(c8mE;aca&edzxassw rdw\n",
      "9<+superKfr:Tec)ed,(c8mE;aca&edzxassw rdw\n",
      "9<+superKpr:Tec)ed,(c8mE;aca&edzxassw rdw\n",
      "9<+superKpr:Tec)ed,(c8mp;aca&edzxassw rdw\n",
      "9<+superKpr:Tec)ed,(c8mp;aca&edzpassw rdw\n",
      "9<+superKpr:tec)ed,(c8mp;aca&edzpassw rdw\n",
      "9<+superKpr:tected,(c8mp;aca&edzpassw rdw\n",
      "9<+superKpr:tected,(c8mp;acatedzpassw rdw\n",
      "9<+superKprotected,(c8mp;acatedzpassw rdw\n",
      "9<+superKprotected,(comp;acatedzpassw rdw\n",
      "9<+superKprotected,(comp;acatedzpasswordw\n",
      "9y+superKprotected,(comp;acatedzpasswordw\n",
      "9y+superKprotected,(comp;acatedzpassword!\n",
      "My+superKprotected,(comp;acatedzpassword!\n",
      "My superKprotected,(comp;acatedzpassword!\n",
      "My super protected,(comp;acatedzpassword!\n",
      "My super protected, comp;acatedzpassword!\n",
      "My super protected, comp;acated password!\n",
      "My super protected, comp;icated password!\n",
      "My super protected, complicated password!\n"
     ]
    }
   ],
   "source": [
    "mano_slaptazodis.password_convergence()"
   ]
  },
  {
   "cell_type": "code",
   "execution_count": null,
   "metadata": {},
   "outputs": [],
   "source": []
  }
 ],
 "metadata": {
  "kernelspec": {
   "display_name": "Python 3",
   "language": "python",
   "name": "python3"
  },
  "language_info": {
   "codemirror_mode": {
    "name": "ipython",
    "version": 3
   },
   "file_extension": ".py",
   "mimetype": "text/x-python",
   "name": "python",
   "nbconvert_exporter": "python",
   "pygments_lexer": "ipython3",
   "version": "3.7.3"
  }
 },
 "nbformat": 4,
 "nbformat_minor": 4
}
